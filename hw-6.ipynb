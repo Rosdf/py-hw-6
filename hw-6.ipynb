{
 "cells": [
  {
   "cell_type": "code",
   "execution_count": null,
   "metadata": {},
   "outputs": [],
   "source": [
    "#задание 1\n",
    "def GetCustomers():\n",
    "    import json\n",
    "    f = open(\"purchase_log.txt\", 'r', encoding='utf-8')\n",
    "    f.readline() #пропускаем заголовок\n",
    "    purchase_log = f.readlines()\n",
    "    customers = {}\n",
    "    for purchase in purchase_log:\n",
    "        #print(purchase.strip())\n",
    "        line = json.loads(purchase.strip())\n",
    "        if line[\"user_id\"] in customers.keys():\n",
    "            customers[line[\"user_id\"]].append(line[\"category\"])\n",
    "        else:\n",
    "            customers[line[\"user_id\"]] = [line[\"category\"]]\n",
    "    f.close()\n",
    "    return customers\n",
    "    "
   ]
  },
  {
   "cell_type": "code",
   "execution_count": null,
   "metadata": {},
   "outputs": [],
   "source": [
    "#задание 2\n",
    "with open('visit_log.csv', 'r') as f:\n",
    "    with open('funnel.csv', 'w') as f2write:\n",
    "        customers = GetCustomers()\n",
    "        f.readline()\n",
    "        for line in f:\n",
    "            line = line.strip().split(\",\")\n",
    "            if line[0] in customers.keys():\n",
    "                for category in customers[line[0]]:\n",
    "                    f2write.write(line[0])\n",
    "                    f2write.write(\", \")\n",
    "                    f2write.write(line[1])\n",
    "                    f2write.write(\", \")\n",
    "                    f2write.write(category)\n",
    "                    f2write.write(\"\\n\")"
   ]
  },
  {
   "cell_type": "code",
   "execution_count": null,
   "metadata": {},
   "outputs": [],
   "source": [
    "#демонстрация задания 1\n",
    "cust = GetCustomers()\n",
    "i = 0\n",
    "for key, value in cust.items():\n",
    "    print(key, *value)\n",
    "    i += 1\n",
    "    if i > 5:\n",
    "        break"
   ]
  }
 ],
 "metadata": {
  "kernelspec": {
   "display_name": "Python 3",
   "language": "python",
   "name": "python3"
  },
  "language_info": {
   "codemirror_mode": {
    "name": "ipython",
    "version": 3
   },
   "file_extension": ".py",
   "mimetype": "text/x-python",
   "name": "python",
   "nbconvert_exporter": "python",
   "pygments_lexer": "ipython3",
   "version": "3.8.5"
  }
 },
 "nbformat": 4,
 "nbformat_minor": 4
}
